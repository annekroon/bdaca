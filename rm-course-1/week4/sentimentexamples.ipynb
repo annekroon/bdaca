{
 "cells": [
  {
   "cell_type": "code",
   "execution_count": 9,
   "metadata": {},
   "outputs": [],
   "source": [
    "from sklearn import datasets\n",
    "from sklearn.metrics import confusion_matrix, classification_report\n",
    "from pattern.en import sentiment\n",
    "from nltk.sentiment import vader\n",
    "from tqdm import tqdm\n",
    "import numpy as np\n",
    "import nltk\n",
    "import csv"
   ]
  },
  {
   "cell_type": "markdown",
   "metadata": {},
   "source": [
    "*you might need to install some stuff before, e.g.*\n",
    "\n",
    "```sudo apt install libmysqlclient-dev\n",
    "sudo pip3 install pattern```"
   ]
  },
  {
   "cell_type": "markdown",
   "metadata": {},
   "source": [
    "## Let's get some data"
   ]
  },
  {
   "cell_type": "code",
   "execution_count": null,
   "metadata": {},
   "outputs": [],
   "source": [
    "nltk.download('vader_lexicon')"
   ]
  },
  {
   "cell_type": "code",
   "execution_count": 2,
   "metadata": {},
   "outputs": [],
   "source": [
    "data = datasets.fetch_20newsgroups(categories=['soc.religion.christian'],\n",
    "                                  remove=('headers', 'footers', 'quotes'), subset='train')\n",
    "texts = data['data']"
   ]
  },
  {
   "cell_type": "code",
   "execution_count": 3,
   "metadata": {},
   "outputs": [
    {
     "data": {
      "text/plain": [
       "599"
      ]
     },
     "execution_count": 3,
     "metadata": {},
     "output_type": "execute_result"
    }
   ],
   "source": [
    "len(texts)"
   ]
  },
  {
   "cell_type": "code",
   "execution_count": 4,
   "metadata": {},
   "outputs": [
    {
     "name": "stdout",
     "output_type": "stream",
     "text": [
      "I wrote in response to dlecoint@garnet.acns.fsu.edu (Darius_Lecointe):\n",
      "\n",
      "\n",
      "Was Paul a God too? Is an interpretation of the words of Paul of higher\n",
      "priority than the direct word of Jesus in Matt5:14-19? Paul begins\n",
      "Romans 14 with \"If someone is weak in the faith ...\" Do you count\n",
      "yourself as one who is weak in the faith?\n",
      "\n",
      "\n",
      "Yes, but what does the Bible have to say? What did Jesus say? Paul\n",
      "closes Romans 14 with, \"On the other hand, the person with doubts about\n",
      "something who eats it anyway is guilty, because he isn't acting on his\n",
      "faith, and any failure to act on faith is a sin.\" Gaus, ISBN:0-933999-99-2\n",
      "Have you read the Ten Commandments which are a portion of the Law? Have\n",
      "you read Jesus' word in Matt5:14-19? Is there any doubt in your mind\n",
      "about what is right and what is sin (Greek hamartia = missing the mark)?\n",
      "\n",
      "\n",
      "Whereas, the Ten Commandments and Jesus' words in Matt5:14-19 are fairly\n",
      "clear, are they not?\n",
      "\n",
      "\n",
      "Matt5:14-19 doesn't answer your question?\n",
      "\n",
      "\n",
      "Breaking bread - roughly synonymous with eating.\n",
      "\n",
      "\n",
      "How do you unite this concept of yours with the Ten Commandments and\n",
      "Jesus's word in Matt5:14-19?\n",
      "\n",
      "\n",
      "Or, they assumed that the Ten Commandments and Jesus' word in\n",
      "Matt5:14-19 actually stood for something? Perhaps they were \"strong in\n",
      "the faith?\"\n",
      "\n",
      "---------------------------\n",
      "\n",
      "[No, I don't believe that Paul can overrule God.  However Paul was\n",
      "writing for a largely Gentile audience.  The Law was regarded by Jews\n",
      "at the time (and now) as binding on Jews, but not on Gentiles.  There\n",
      "are rules that were binding on all human beings (the so-called Noachic\n",
      "laws), but they are quite minimal.  The issue that the Church had to\n",
      "face after Jesus' death was what to do about Gentiles who wanted to\n",
      "follow Christ.  The decision not to impose the Law on them didn't say\n",
      "that the Law was abolished.  It simply acknowledged that fact that it\n",
      "didn't apply to Gentiles.  Thus there is no contradiction with Mat 5.\n",
      "As far as I can tell, both Paul and other Jewish Christians did\n",
      "continue to participate in Jewish worship on the Sabbath.  Thus they\n",
      "continued to obey the Law.  The issue was (and is) with Gentile\n",
      "Christians, who are not covered by the Law (or at least not by the\n",
      "ceremonial aspects of it).\n",
      "\n",
      "Jesus dealt mostly with Jews.  I think we can reasonably assume that\n",
      "Mat 5 was directed to a Jewish audience.  He did interact with\n",
      "Gentiles a few times (e.g. the centurion whose slave was healed and a\n",
      "couple of others).  The terms used to describe the centurion (see Luke\n",
      "7) suggest that he was a \"God-fearer\", i.e. a Gentile who followed\n",
      "God, but had not adopted the whole Jewish Law.  He was commended by\n",
      "Jewish elders as a worthy person, and Jesus accepted him as such.\n",
      "This seems to me to indicate that Jesus accepted the prevailing view\n",
      "that Gentiles need not accept the Law.\n",
      "\n",
      "However there's more involved if you want to compare Jesus and Paul on\n",
      "the Law.  In order to get a full picture of the role of the Law, we\n",
      "have to come to grips with Paul's apparent rejection of the Law, and\n",
      "how that relates to Jesus' commendation of the Law.  At least as I\n",
      "read Paul, he says that the Law serves a purpose that has been in a\n",
      "certain sense superceded.  Again, this issue isn't one of the\n",
      "abolition of the Law.  In the middle of his discussion, Paul notes\n",
      "that he might be understood this way, and assures us that that's not\n",
      "what he intends to say.  Rather, he sees the Law as primarily being\n",
      "present to convict people of their sinfulness.  But ultimately it's an\n",
      "impossible standard, and one that has been superceded by Christ.\n",
      "Paul's comments are not the world's clearest here, and not everyone\n",
      "agrees with my reading.  But the interesting thing to notice is that\n",
      "even this radical position does not entail an abolition of the Law.\n",
      "It still remains as an uncompromising standard, from which not an iota\n",
      "or dot may be removed.  For its purpose of convicting of sin, it's\n",
      "important that it not be relaxed.  However for Christians, it's not\n",
      "the end -- ultimately we live in faith, not Law.\n",
      "\n",
      "While the theoretical categories they use are rather different, in the\n",
      "end I think Jesus and Paul come to a rather similar conclusion.  The\n",
      "quoted passage from Mat 5 should be taken in the context of the rest\n",
      "of the Sermon on the Mount, where Jesus shows us how he interprets the\n",
      "Law.  The \"not an iota or dot\" would suggest a rather literal reading,\n",
      "but in fact that's not Jesus' approach.  Jesus' interpretations\n",
      "emphasize the intent of the Law, and stay away from the ceremonial\n",
      "details.  Indeed he is well known for taking a rather free attitude\n",
      "towards the Sabbath and kosher laws.  Some scholars claim that Mat\n",
      "5:17-20 needs to be taken in the context of 1st Cent. Jewish\n",
      "discussions.  Jesus accuses his opponents of caring about giving a\n",
      "tenth of even the most minor herbs, but neglecting the things that\n",
      "really matter: justice, mercy and faith, and caring about how cups and\n",
      "plates are cleaned, but not about the fact that inside the people who\n",
      "use them are full of extortion and rapacity.  (Mat 23:23-25) This, and\n",
      "the discussion later in Mat 5, suggest that Jesus has a very specific\n",
      "view of the Law in mind, and that when he talks about maintaining the\n",
      "Law in its full strength, he is thinking of these aspects of it.\n",
      "Paul's conclusion is similar.  While he talks about the Law being\n",
      "superceded, all of the specific examples he gives involve the\n",
      "\"ceremonial law\", such as circumcision and the Sabbath.  He is quite\n",
      "concerned about maintaining moral standards.\n",
      "\n",
      "The net result of this is that when Paul talks about the Law being\n",
      "superceded, and Jesus talks about the Law being maintained, I believe\n",
      "they are talking about different aspects of the Law.  Paul is\n",
      "embroiled in arguments about circumcision.  As is natural in letters\n",
      "responding to specific situations, he's looking at the aspect of the\n",
      "Law that is currently causing trouble: the Law as specifically Jewish\n",
      "ceremonies.  He certainly does not intend to abolish divine standards\n",
      "of conduct.  On the other hand, when Jesus commends the Law, he seems\n",
      "to be talking the Law in its broadest implications for morals and\n",
      "human relationships, and deemphasizing those aspects that were later\n",
      "to give Paul so much trouble.\n",
      "\n",
      "It's unfortunate that people use the same terms in different ways, but\n",
      "we should be familiar with that from current conflicts.  Look at the\n",
      "way terms like \"family values\" take on special meaning from the\n",
      "current context.  Imagine some poor historian of the future trying to\n",
      "figure out why \"family values\" should be used as a code word for\n",
      "opposition to homosexuality in one specific period in the U.S.  I\n",
      "think Law had taken on a similar role in the arguments Paul was\n",
      "involved in.  Paul was clearly not rejecting all of the Jewish values\n",
      "that go along with the term \"Law\", any more than people who concerned\n",
      "about the \"family values\" movement are really opposed to family\n",
      "values.\n"
     ]
    }
   ],
   "source": [
    "print(texts[0])"
   ]
  },
  {
   "cell_type": "code",
   "execution_count": 6,
   "metadata": {},
   "outputs": [
    {
     "data": {
      "text/plain": [
       "(0.03465061874152785, 0.34897186147186154)"
      ]
     },
     "execution_count": 6,
     "metadata": {},
     "output_type": "execute_result"
    }
   ],
   "source": [
    "sentiment(texts[0])"
   ]
  },
  {
   "cell_type": "code",
   "execution_count": 7,
   "metadata": {},
   "outputs": [
    {
     "name": "stdout",
     "output_type": "stream",
     "text": [
      "The polarity is 0.03465061874152785 and the subjectivity is 0.34897186147186154\n"
     ]
    }
   ],
   "source": [
    "s = sentiment(texts[0])\n",
    "print(f\"The polarity is {s[0]} and the subjectivity is {s[1]}\")"
   ]
  },
  {
   "cell_type": "code",
   "execution_count": null,
   "metadata": {},
   "outputs": [],
   "source": []
  },
  {
   "cell_type": "code",
   "execution_count": null,
   "metadata": {},
   "outputs": [],
   "source": []
  },
  {
   "cell_type": "code",
   "execution_count": null,
   "metadata": {},
   "outputs": [],
   "source": []
  },
  {
   "cell_type": "markdown",
   "metadata": {},
   "source": [
    "## Let's try out pattern"
   ]
  },
  {
   "cell_type": "code",
   "execution_count": 10,
   "metadata": {},
   "outputs": [
    {
     "name": "stderr",
     "output_type": "stream",
     "text": [
      "100%|██████████| 599/599 [00:18<00:00, 31.83it/s]\n"
     ]
    }
   ],
   "source": [
    "polarity = []\n",
    "subjectivity = []\n",
    "for t in tqdm(texts):\n",
    "    s = sentiment(t)\n",
    "    polarity.append(s[0])\n",
    "    subjectivity.append(s[1])"
   ]
  },
  {
   "cell_type": "code",
   "execution_count": 11,
   "metadata": {},
   "outputs": [
    {
     "name": "stderr",
     "output_type": "stream",
     "text": [
      "100%|██████████| 599/599 [00:21<00:00, 27.25it/s]\n"
     ]
    }
   ],
   "source": [
    "polarity = []\n",
    "subjectivity = []\n",
    "for t in tqdm(texts):\n",
    "    polarity.append(sentiment(t)[0])\n",
    "    subjectivity.append(sentiment(t)[1])"
   ]
  },
  {
   "cell_type": "code",
   "execution_count": null,
   "metadata": {},
   "outputs": [],
   "source": [
    "# DONT DO THIS!!\n",
    "# dont loop twice over same list\n",
    "# dont calculate sentiment twice\n",
    "polarity = []\n",
    "for t in texts:\n",
    "    polarity.append(sentiment(t)[0])\n",
    "    \n",
    "subjectivity = []\n",
    "for t in texts:\n",
    "    subjectivity.append(sentiment(t)[1])    "
   ]
  },
  {
   "cell_type": "code",
   "execution_count": 12,
   "metadata": {},
   "outputs": [
    {
     "data": {
      "text/plain": [
       "0.03465061874152785"
      ]
     },
     "execution_count": 12,
     "metadata": {},
     "output_type": "execute_result"
    }
   ],
   "source": [
    "polarityrity[0]"
   ]
  },
  {
   "cell_type": "code",
   "execution_count": 17,
   "metadata": {},
   "outputs": [],
   "source": [
    "output = zip([t.replace('\\n',' ') for t in texts], polarity, subjectivity)\n",
    "with open('test.csv', mode='w') as f:\n",
    "    writer=csv.writer(f)\n",
    "    writer.writerow(['newsgrouptext', 'polarity', 'subjectivity'])\n",
    "    writer.writerows(output)"
   ]
  },
  {
   "cell_type": "code",
   "execution_count": 15,
   "metadata": {},
   "outputs": [],
   "source": [
    "csv.writer?"
   ]
  },
  {
   "cell_type": "code",
   "execution_count": null,
   "metadata": {},
   "outputs": [],
   "source": []
  },
  {
   "cell_type": "code",
   "execution_count": null,
   "metadata": {},
   "outputs": [],
   "source": []
  },
  {
   "cell_type": "markdown",
   "metadata": {},
   "source": [
    "## Do pattern and vader disagree?"
   ]
  },
  {
   "cell_type": "code",
   "execution_count": null,
   "metadata": {},
   "outputs": [],
   "source": []
  },
  {
   "cell_type": "code",
   "execution_count": 18,
   "metadata": {},
   "outputs": [
    {
     "data": {
      "text/plain": [
       "{'neg': 0.0, 'neu': 0.406, 'pos': 0.594, 'compound': 0.6588}"
      ]
     },
     "execution_count": 18,
     "metadata": {},
     "output_type": "execute_result"
    }
   ],
   "source": [
    "senti=vader.SentimentIntensityAnalyzer()\n",
    "senti.polarity_scores('This is a great day!')"
   ]
  },
  {
   "cell_type": "code",
   "execution_count": 19,
   "metadata": {},
   "outputs": [],
   "source": [
    "vadercomp = []\n",
    "senti=vader.SentimentIntensityAnalyzer()\n",
    "\n",
    "for t in texts:\n",
    "    s = senti.polarity_scores(t)\n",
    "    vadercomp.append(s['compound'])\n",
    "    # of course you could make more lists to store the other values as well"
   ]
  },
  {
   "cell_type": "code",
   "execution_count": 20,
   "metadata": {},
   "outputs": [],
   "source": [
    "output = zip([t.replace('\\n','') for t in texts], polarity, subjectivity, vadercomp)\n",
    "with open('test.csv', mode='w') as f:\n",
    "    writer=csv.writer(f)\n",
    "    writer.writerow(['Text', 'pattern_polarity', 'pattern_subjectivity', 'vader_composite'])\n",
    "    writer.writerows(output)"
   ]
  },
  {
   "cell_type": "code",
   "execution_count": null,
   "metadata": {},
   "outputs": [],
   "source": []
  },
  {
   "cell_type": "code",
   "execution_count": null,
   "metadata": {},
   "outputs": [],
   "source": []
  },
  {
   "cell_type": "code",
   "execution_count": 23,
   "metadata": {},
   "outputs": [
    {
     "data": {
      "text/plain": [
       "array([[1.       , 0.2352023],\n",
       "       [0.2352023, 1.       ]])"
      ]
     },
     "execution_count": 23,
     "metadata": {},
     "output_type": "execute_result"
    }
   ],
   "source": [
    "np.corrcoef([polarity, vadercomp])"
   ]
  },
  {
   "cell_type": "markdown",
   "metadata": {},
   "source": [
    "**It is REALLY important to validate - NEVER just blindly trust a sentiment score**"
   ]
  },
  {
   "cell_type": "code",
   "execution_count": null,
   "metadata": {},
   "outputs": [],
   "source": []
  },
  {
   "cell_type": "code",
   "execution_count": null,
   "metadata": {},
   "outputs": [],
   "source": []
  },
  {
   "cell_type": "markdown",
   "metadata": {},
   "source": [
    "# Self-test Exercise for at home\n",
    "\n",
    "**ON AN OWN DATASET THAT YOU ARE INTERESTED IN**, how do the following approaches compare:\n",
    "\n",
    "- pattern\n",
    "- vader\n",
    "- own/existing word list\n",
    "- hand-coding (if you would manually code some articles as positive or negative)"
   ]
  },
  {
   "cell_type": "code",
   "execution_count": null,
   "metadata": {},
   "outputs": [],
   "source": []
  },
  {
   "cell_type": "code",
   "execution_count": 24,
   "metadata": {},
   "outputs": [],
   "source": [
    "# assuming you made a csv file with two columns (the text and your coding (\"annotation\"))\n",
    "mytexts = []\n",
    "y_manual= []\n",
    "with open('test_annotated.csv', mode='r') as f:\n",
    "    reader = csv.reader(f)\n",
    "    next(reader) # to skip the first row with headers\n",
    "    for row in reader:\n",
    "        mytexts.append(row[0])\n",
    "        y_manual.append(row[1])"
   ]
  },
  {
   "cell_type": "code",
   "execution_count": 25,
   "metadata": {},
   "outputs": [
    {
     "name": "stdout",
     "output_type": "stream",
     "text": [
      "[[1 1]\n",
      " [1 3]]\n",
      "              precision    recall  f1-score   support\n",
      "\n",
      "         neg       0.50      0.50      0.50         2\n",
      "         pos       0.75      0.75      0.75         4\n",
      "\n",
      "    accuracy                           0.67         6\n",
      "   macro avg       0.62      0.62      0.62         6\n",
      "weighted avg       0.67      0.67      0.67         6\n",
      "\n"
     ]
    }
   ],
   "source": [
    "analyzer = vader.SentimentIntensityAnalyzer()\n",
    "y_vader = []\n",
    "\n",
    "for text in mytexts:\n",
    "    sent = analyzer.polarity_scores(text)\n",
    "    if sent['compound']>0:\n",
    "        y_vader.append('pos')\n",
    "    elif sent['compound']<0:\n",
    "        y_vader.append('neg')\n",
    "    else:\n",
    "        y_vader.append('dont know')\n",
    "print(confusion_matrix(y_manual, y_vader))\n",
    "print(classification_report(y_manual, y_vader))"
   ]
  },
  {
   "cell_type": "markdown",
   "metadata": {},
   "source": [
    "### Interpretation\n",
    "\n",
    "(example of the 'neg' row)\n",
    "\n",
    "- precision: which percentage of the texts that vader coded as negative were really negative (according to manual coding)?\n",
    "- recall: which percentage of the really negative texts (according to manual coding) did vader find?"
   ]
  }
 ],
 "metadata": {
  "kernelspec": {
   "display_name": "Python 3",
   "language": "python",
   "name": "python3"
  },
  "language_info": {
   "codemirror_mode": {
    "name": "ipython",
    "version": 3
   },
   "file_extension": ".py",
   "mimetype": "text/x-python",
   "name": "python",
   "nbconvert_exporter": "python",
   "pygments_lexer": "ipython3",
   "version": "3.7.5"
  }
 },
 "nbformat": 4,
 "nbformat_minor": 4
}

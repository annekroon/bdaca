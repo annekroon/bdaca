{
 "cells": [
  {
   "cell_type": "markdown",
   "metadata": {},
   "source": [
    "# BDACA I+II\n",
    "## Week 8: Time series analysis\n",
    "\n",
    "To do this exercise, you need:\n",
    "\n",
    "- The information from this weeks guest lecture\n",
    "- The example code at https://github.com/damian0604/bdaca/blob/master/ipynb/timeseries.ipynb\n",
    "- The data from https://dataverse.harvard.edu/dataset.xhtml?persistentId=doi:10.7910/DVN/JU8B9V\n",
    "- (optionally, for better understanding) The article to which the data belong at https://doi.org/10.1017/S0007123418000145\n",
    "\n",
    "We will try to find out whether media attention to UKIP increase vote intention for UKIP in polls, and/or whether vote intention in polls increases media attention. The authors of the paper argue that media attention drives party support, but not the other way around.\n",
    "\n",
    "As you will see when starting to analyze the data, you might actually *not* arrive at the same conclusion, *depending on your model specification*. We can discuss why this is the case and what the implications of this are in class, but first and foremost, do not focus too much on discripancies with the author's original analysis. The authors provide the R Markdown code that allows you to replicate exactly what they did in R, if you want.\n",
    "\n",
    "## How this notebook works\n",
    "\n",
    "Insert your code in the empty cells. Add new code cells as you need. Do not forget to also insert Markdown cells to make your own interpretation and comments. I sometimes provide some example code, but you need to adapt it (e.g., use correct filenames or variable names)"
   ]
  },
  {
   "cell_type": "markdown",
   "metadata": {},
   "source": [
    "## Load and prepare the data\n",
    "\n",
    "Read the data into a pandas dataframe. For now, we only need the `ukip_media.tab` file. Our main variables of interest are called `UKIP.Vote` and `UKIP.Articles`. \n",
    "If you want to exactly replicate the author's analysis, you might also need some of the other files (and merge them, as we have learned in Week 7) for additional control variables. But let's start simple."
   ]
  },
  {
   "cell_type": "code",
   "execution_count": null,
   "metadata": {},
   "outputs": [],
   "source": [
    "import pandas as pd\n",
    "import statsmodels.api as sm\n",
    "import statsmodels.tsa as smtsa\n",
    "import numpy as np\n",
    "%matplotlib inline"
   ]
  },
  {
   "cell_type": "code",
   "execution_count": null,
   "metadata": {},
   "outputs": [],
   "source": [
    "media = pd.read_csv('data/ukip_media.tab', delimiter = '\\t')"
   ]
  },
  {
   "cell_type": "code",
   "execution_count": null,
   "metadata": {},
   "outputs": [],
   "source": [
    "# insert some code for inspecting the data"
   ]
  },
  {
   "cell_type": "code",
   "execution_count": null,
   "metadata": {},
   "outputs": [],
   "source": [
    "# given that it is over time data, maybe do a plot, e.g. like this:\n",
    "# media['variablename'].plot()"
   ]
  },
  {
   "cell_type": "code",
   "execution_count": null,
   "metadata": {},
   "outputs": [],
   "source": [
    "# a comment that allows you to use the Date as index (=row label) instead of a number 0, 1, 2 ... n\n",
    "# media.index=pd.to_datetime(media['Date'])\n",
    "# check out what that does to your plots!"
   ]
  },
  {
   "cell_type": "markdown",
   "metadata": {},
   "source": [
    "You might have recognized that the poll data have some missing values. We could drop them, but then we would loose the nice property that our time series is evenly spaced. The authors therefore used a linear interpolation to replace the missing values. Let's to that as well"
   ]
  },
  {
   "cell_type": "code",
   "execution_count": null,
   "metadata": {},
   "outputs": [],
   "source": [
    "# media['UKIP.Vote'] = media['UKIP.Vote'].interpolate()"
   ]
  },
  {
   "cell_type": "code",
   "execution_count": null,
   "metadata": {},
   "outputs": [],
   "source": []
  },
  {
   "cell_type": "markdown",
   "metadata": {},
   "source": [
    "## Test for stationarity (and potentially differentiate)\n",
    "Look again at the plots you created above? Do they look stationaty?\n",
    "\n",
    "Let's test that more formally with a Dickey-Fuller test. We need to be able to reject the null hypothesis. If we are not (i.e., if p>.05) We need to differentiate."
   ]
  },
  {
   "cell_type": "code",
   "execution_count": null,
   "metadata": {},
   "outputs": [],
   "source": [
    "# your code for DF tests here"
   ]
  },
  {
   "cell_type": "code",
   "execution_count": null,
   "metadata": {},
   "outputs": [],
   "source": [
    "# if applicable: your code for differentiating here\n",
    "# if you differentiate, remove the first row of your new resulting dataset because it now contains NaA (can you explain why?)"
   ]
  },
  {
   "cell_type": "code",
   "execution_count": null,
   "metadata": {},
   "outputs": [],
   "source": [
    "# if applicable: do DF test again after differentiating to make sure that you are now able to reject the null"
   ]
  },
  {
   "cell_type": "code",
   "execution_count": null,
   "metadata": {},
   "outputs": [],
   "source": []
  },
  {
   "cell_type": "markdown",
   "metadata": {},
   "source": [
    "## Run first model\n",
    "\n",
    "Let's run a model and then test for heteroskedaticity. You can select the number of lags by first displaying the statistics and then selecting it manyally, or you do it automatically. The authors used the aic statistics for that."
   ]
  },
  {
   "cell_type": "code",
   "execution_count": null,
   "metadata": {},
   "outputs": [],
   "source": [
    "# first analysis, no tuning yet\n",
    "# m1 = sm.tsa.VAR(endog= mydataframe)\n",
    "# result = m1.fit(maxlags=10, ic='aic')\n",
    "# result.summary()"
   ]
  },
  {
   "cell_type": "code",
   "execution_count": null,
   "metadata": {},
   "outputs": [],
   "source": [
    "# or, to select lag by hand\n",
    "# m1 = sm.tsa.VAR(endog= mydataframe)\n",
    "# model.select_order(10).summary() "
   ]
  },
  {
   "cell_type": "code",
   "execution_count": null,
   "metadata": {},
   "outputs": [],
   "source": [
    "# results = model.fit(3) # if 3 is what you want\n",
    "# results.summary()"
   ]
  },
  {
   "cell_type": "code",
   "execution_count": null,
   "metadata": {},
   "outputs": [],
   "source": [
    "# your code for heteroskedaticity\n",
    "# sth along the lines of (choose better variable names)\n",
    "# sres_adj_close=[line**2 for line in result.resid['UKIP.Vote']]\n",
    "# sm.stats.diagnostic.acorr_ljungbox(sres_adj_close,lags=20)"
   ]
  },
  {
   "cell_type": "markdown",
   "metadata": {},
   "source": [
    "## Transform the input data (and do tests etc again)\n",
    "\n",
    "The authors argue that in order to remove heteroskedaticity, they log-transformed the variables. This basically means that you are not asking \"what do I have to add to/substract from y when I increase x by 1,2,3,...?\", but \"With what do I have to multiply y when I multiply x with 1,2,3,...?\".\n",
    "\n",
    "Because log(0) is not defined, we first add 1 to the variable. You can use `.apply()` or `.map()` for your transformation, e.g `.apply(lambda x: np.log(x+1)`\n",
    "\n",
    "\n",
    "### Also don't forget to do a white noise test!"
   ]
  },
  {
   "cell_type": "code",
   "execution_count": null,
   "metadata": {},
   "outputs": [],
   "source": [
    "# your code"
   ]
  },
  {
   "cell_type": "code",
   "execution_count": null,
   "metadata": {},
   "outputs": [],
   "source": [
    "# your code"
   ]
  },
  {
   "cell_type": "code",
   "execution_count": null,
   "metadata": {},
   "outputs": [],
   "source": [
    "# your code"
   ]
  },
  {
   "cell_type": "code",
   "execution_count": null,
   "metadata": {},
   "outputs": [],
   "source": [
    "# ..."
   ]
  },
  {
   "cell_type": "code",
   "execution_count": null,
   "metadata": {},
   "outputs": [],
   "source": [
    "#"
   ]
  },
  {
   "cell_type": "markdown",
   "metadata": {},
   "source": [
    "## Interpret the model\n",
    "\n",
    "You can now start interpreting the model by \n",
    "\n",
    "1. Running Granger-causality tests\n",
    "2. Plotting IRF's"
   ]
  },
  {
   "cell_type": "code",
   "execution_count": null,
   "metadata": {},
   "outputs": [],
   "source": [
    "# your code"
   ]
  },
  {
   "cell_type": "code",
   "execution_count": null,
   "metadata": {},
   "outputs": [],
   "source": []
  },
  {
   "cell_type": "markdown",
   "metadata": {},
   "source": [
    "## Specify alternative models (and test them)\n",
    "\n",
    "There are a couple of ways how we could change our models (and, in fact, the authors did use such models). I'll give you some suggestions here:"
   ]
  },
  {
   "cell_type": "markdown",
   "metadata": {},
   "source": [
    "### Include a trend variable\n",
    "\n",
    "You can specify whether you want to include a trend variable (basically,  include the row number as variable)\n",
    "\n",
    "`r = model.fit(maxlags=15, ic='aic', trend='c')  # include a constant`\n",
    "\n",
    "\n",
    "`r = model.fit(maxlags=15, ic='aic', trend='ct')  # include a constant and a trend`\n",
    "\n",
    "\n",
    "`r = model.fit(maxlags=15, ic='aic', trend='ctt')  # include a constant and a squared trend`"
   ]
  },
  {
   "cell_type": "code",
   "execution_count": null,
   "metadata": {},
   "outputs": [],
   "source": [
    "# your code"
   ]
  },
  {
   "cell_type": "markdown",
   "metadata": {},
   "source": [
    "### Include control variables\n",
    "\n",
    "You can include control variables (also called exogeneous variables, in contrast to endogeneous variables).\n",
    "\n",
    "`model = sm.tsa.VAR(endog=mydf[mycolumnswithvariablesofinterest], exog=mydf[mycolumnswithcontrols])`\n",
    "\n",
    "\n",
    "If you would create a new variable with an increasing numner like this:\n",
    "\n",
    "`mydf['test_trend']=range(len(mydf))`\n",
    "\n",
    "and then include it as an edogeneous variable, then this would be equivalent to using the trend shortcut above."
   ]
  },
  {
   "cell_type": "code",
   "execution_count": null,
   "metadata": {},
   "outputs": [],
   "source": [
    "# your code"
   ]
  }
 ],
 "metadata": {
  "kernelspec": {
   "display_name": "Python 3",
   "language": "python",
   "name": "python3"
  },
  "language_info": {
   "codemirror_mode": {
    "name": "ipython",
    "version": 3
   },
   "file_extension": ".py",
   "mimetype": "text/x-python",
   "name": "python",
   "nbconvert_exporter": "python",
   "pygments_lexer": "ipython3",
   "version": "3.6.7"
  }
 },
 "nbformat": 4,
 "nbformat_minor": 2
}
